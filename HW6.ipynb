{
  "nbformat": 4,
  "nbformat_minor": 0,
  "metadata": {
    "colab": {
      "provenance": []
    },
    "kernelspec": {
      "name": "python3",
      "display_name": "Python 3"
    },
    "language_info": {
      "name": "python"
    }
  },
  "cells": [
    {
      "cell_type": "code",
      "execution_count": 9,
      "metadata": {
        "colab": {
          "base_uri": "https://localhost:8080/"
        },
        "id": "J6sTkwRQxGQn",
        "outputId": "cd253b1d-1452-4785-f0d4-6d47389ce176"
      },
      "outputs": [
        {
          "output_type": "stream",
          "name": "stdout",
          "text": [
            "6\n"
          ]
        }
      ],
      "source": [
        "def add(*numbers):\n",
        "  total = 0\n",
        "  for i in numbers:\n",
        "    total = total + i\n",
        "  print(total)\n",
        "\n",
        "add(1, 2, 3)"
      ]
    }
  ]
}